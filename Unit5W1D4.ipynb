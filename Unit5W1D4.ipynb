{
 "cells": [
  {
   "cell_type": "code",
   "execution_count": 1,
   "metadata": {},
   "outputs": [
    {
     "name": "stdout",
     "output_type": "stream",
     "text": [
      "[1, 2, 4, 56, 6, 7]\n"
     ]
    }
   ],
   "source": [
    "l = [1, 2, 0, 4, 0, 56, 6, 0, 7, 0]\n",
    "new_l = []\n",
    "for i in range(len(l)):\n",
    "    if l[i] != 0:\n",
    "        new_l.append(l[i])\n",
    "print(new_l)"
   ]
  },
  {
   "cell_type": "code",
   "execution_count": 1,
   "metadata": {},
   "outputs": [
    {
     "name": "stdout",
     "output_type": "stream",
     "text": [
      "[1, 2, 4, 56, 6, 7]\n"
     ]
    }
   ],
   "source": [
    "l = [1, 2, 0, 4, 0, 56, 6, 0, 7, 0]\n",
    "new_l = [x for x in l if x != 0]\n",
    "print(new_l)"
   ]
  },
  {
   "cell_type": "code",
   "execution_count": null,
   "metadata": {},
   "outputs": [],
   "source": [
    "# Write a function that returns the length of an array.\n",
    "def solution(a):\n",
    "    return len(a)"
   ]
  },
  {
   "cell_type": "code",
   "execution_count": null,
   "metadata": {},
   "outputs": [],
   "source": [
    "# This function accepts an array and an index.\n",
    "#It should return the value at that index.\n",
    "#If the index is out of range, it should return -999.\n",
    "\n",
    "def solution(a, index):\n",
    "    if index in range(len(a)):\n",
    "        return a[index]\n",
    "    else: \n",
    "        return -999"
   ]
  },
  {
   "cell_type": "code",
   "execution_count": null,
   "metadata": {},
   "outputs": [],
   "source": [
    "# Write a function that prepends front and appends back to an array.\n",
    "\n",
    "def solution(a, front, back):\n",
    "   a_list = list(a)\n",
    "   a_list.insert(0, front)\n",
    "   a_list.append(back)\n",
    "   return a_list"
   ]
  },
  {
   "cell_type": "code",
   "execution_count": null,
   "metadata": {},
   "outputs": [],
   "source": [
    "# Write a function that deletes a value from an array a at index.\n",
    "\n",
    "def solution(a, index):\n",
    "    a.pop(index)\n",
    "    return a"
   ]
  },
  {
   "cell_type": "code",
   "execution_count": null,
   "metadata": {},
   "outputs": [],
   "source": [
    "#Given a number, return the number of digits.\n",
    "def solution(n):\n",
    "    count = 0\n",
    "    while n != 0:\n",
    "        # // division but takes away the remainder\n",
    "        n //= 10 \n",
    "        count += 1\n",
    "    return count"
   ]
  },
  {
   "cell_type": "code",
   "execution_count": null,
   "metadata": {},
   "outputs": [],
   "source": [
    "# This function should start computing the product of\n",
    "#x * (x+1) * (x+2) * (x+3) * ...\n",
    "#until the product becomes evenly divisible by 7. Then it should stop and return the product.\n",
    "#If x is already divisible by 7, just return x.\n",
    "\n",
    "def solution(x):\n",
    "    n = x\n",
    "    total = x\n",
    "    while total % 7 != 0:\n",
    "        n += 1\n",
    "        total *= n\n",
    "    return total\n",
    "    "
   ]
  },
  {
   "cell_type": "code",
   "execution_count": null,
   "metadata": {},
   "outputs": [],
   "source": [
    "# Write a function that chops off the beginning and end of an array and puts them in a new array.\n",
    "\n",
    "#An array containing the original array and the new array should be returned.\n",
    "\n",
    "def solution(a):\n",
    "    b = []\n",
    "    c = a.pop(0)\n",
    "    d = a.pop(-1)\n",
    "    b.append(c)\n",
    "    b.append(d)\n",
    "    return a, b"
   ]
  },
  {
   "cell_type": "code",
   "execution_count": null,
   "metadata": {},
   "outputs": [],
   "source": [
    "# Write a function that inserts a new value in the middle of an array.\n",
    "\n",
    "# The middle index is the length of the array divided by 2, rounded down.\n",
    "\n",
    "def solution(a, x):\n",
    "    b = len(a) // 2\n",
    "    a.insert(b, x)\n",
    "    return a\n"
   ]
  },
  {
   "cell_type": "code",
   "execution_count": null,
   "metadata": {},
   "outputs": [],
   "source": [
    "# This function accepts an array and a value to search for. \n",
    "# It should return true if the value occurs anywhere in the array.\n",
    "def solution(a, v):\n",
    "    if v in a: \n",
    "        return True\n",
    "    else:\n",
    "        return False"
   ]
  },
  {
   "cell_type": "code",
   "execution_count": null,
   "metadata": {},
   "outputs": [],
   "source": [
    "# This function accepts an array. It should return an array with \n",
    "# members that are equal to those in the original array multiplied by 2.\n",
    "# You can modify the existing array and return it, or construct a new one.\n",
    "# If the input array is empty, an empty array should be returned.\n",
    "\n",
    "def solution(a):\n",
    "    if a == []:\n",
    "        return a\n",
    "    else:\n",
    "        b = [x * 2 for x in a]\n",
    "        return b"
   ]
  },
  {
   "cell_type": "code",
   "execution_count": null,
   "metadata": {},
   "outputs": [],
   "source": [
    "# This function accepts an array. It should return the sum of all elements in the array.\n",
    "#If the input array is empty, return 0.\n",
    "\n",
    "def solution(a):\n",
    "    if a == []:\n",
    "        return 0\n",
    "    else:\n",
    "        return sum(a)\n"
   ]
  },
  {
   "cell_type": "code",
   "execution_count": null,
   "metadata": {},
   "outputs": [],
   "source": [
    "# Construct a string of n capital \"A\"s followed by a string of m capital \"B\"s.\n",
    "\n",
    "def solution(n, m):\n",
    "     return (n * \"A\") + (m * \"B\")"
   ]
  },
  {
   "cell_type": "code",
   "execution_count": null,
   "metadata": {},
   "outputs": [],
   "source": [
    "# Construct a string made from every other character in the input string.\n",
    "\n",
    "def solution(s):\n",
    "    return s[::2]"
   ]
  },
  {
   "cell_type": "code",
   "execution_count": null,
   "metadata": {},
   "outputs": [],
   "source": [
    "# Construct a string made from every other character in the input string, excluding vowels.\n",
    "def solution(s):\n",
    "    vowels = [\"a\", \"e\", \"i\", \"o\", \"u\"]\n",
    "    newstr = s[::2]\n",
    "    for i in newstr:\n",
    "        if i in vowels:\n",
    "            newstr = newstr.replace(i, \"\")\n",
    "    return newstr"
   ]
  },
  {
   "cell_type": "code",
   "execution_count": null,
   "metadata": {},
   "outputs": [],
   "source": [
    "# Construct a string made from every other character in the input string, \n",
    "# excluding vowels and capital letters.\n",
    "def solution(s):\n",
    "    newstr = s[::2]\n",
    "    vowels = [\"a\", \"e\", \"i\", \"o\", \"u\"]\n",
    "    for i in newstr:\n",
    "        if i in vowels or i.isupper():\n",
    "            newstr = newstr.replace(i, \"\")\n",
    "    return newstr"
   ]
  },
  {
   "cell_type": "code",
   "execution_count": null,
   "metadata": {},
   "outputs": [],
   "source": [
    "# Given a number and a field width, return a string with that number padded with leading zeros. \n",
    "def solution(n, width):\n",
    " return ((width - len(str(n))) * \"0\") + str(n)"
   ]
  },
  {
   "cell_type": "code",
   "execution_count": null,
   "metadata": {},
   "outputs": [],
   "source": [
    "# Construct a string of p copies of n capital \"A\"s and m capital \"B\"s.\n",
    "\n",
    "def solution(p, n, m):\n",
    "    return p *((n * \"A\") + (m * \"B\"))"
   ]
  }
 ],
 "metadata": {
  "interpreter": {
   "hash": "6544a4f6c4c81bb627ffe33e2e2069de7ceab5a334b7c2380b1b0001fbb739c2"
  },
  "kernelspec": {
   "display_name": "Python 3.9.7 ('base')",
   "language": "python",
   "name": "python3"
  },
  "language_info": {
   "codemirror_mode": {
    "name": "ipython",
    "version": 3
   },
   "file_extension": ".py",
   "mimetype": "text/x-python",
   "name": "python",
   "nbconvert_exporter": "python",
   "pygments_lexer": "ipython3",
   "version": "3.9.7"
  },
  "orig_nbformat": 4
 },
 "nbformat": 4,
 "nbformat_minor": 2
}
