{
 "cells": [
  {
   "cell_type": "code",
   "execution_count": null,
   "metadata": {},
   "outputs": [],
   "source": [
    "# Compute value f(n) for a number of input integers, nums, where f() is an expensive, \n",
    "# time-consuming function. Return the results of f(n) in an array.\n",
    "def f(n):\n",
    "    r = 1 \n",
    "    \n",
    "    for i in range(5000000):\n",
    "        r = ((r+n)*n) % 9973\n",
    "    return r\n",
    "\n",
    "\n",
    "def solution(nums):\n",
    "    result = []\n",
    "    d = {}\n",
    "    for num in nums:\n",
    "        if num in d:\n",
    "            result.append(d[num])\n",
    "        else:\n",
    "            value = f(num)\n",
    "            d[num] = value\n",
    "            result.append(value)\n",
    "    return result"
   ]
  },
  {
   "cell_type": "code",
   "execution_count": null,
   "metadata": {},
   "outputs": [],
   "source": [
    "# Produce a histogram of word frequency in a string.\n",
    "def solution(s):\n",
    "    words = s.split()\n",
    "    d = {}\n",
    "    # We have the split words. For each word in the split words, \n",
    "    # if the word is in the dict, we add a count. \n",
    "    for word in words: \n",
    "        if word in d:\n",
    "            d[word] += 1\n",
    "        else:\n",
    "            d[word] = 1\n",
    "\n",
    "    result = []\n",
    "    # With an empty array, we want to access the key and values in our items, \n",
    "    # a function related to dicts, we format it using f''. We then append it to the result and return.\n",
    "    for key,value in d.items():\n",
    "        output = f'{key}: {\"#\" * value}'\n",
    "        result.append(output)\n",
    "        result.sort()\n",
    "    return result"
   ]
  },
  {
   "cell_type": "code",
   "execution_count": null,
   "metadata": {},
   "outputs": [],
   "source": [
    "# This challenge is about computing Fibonacci Numbers. This is a famous numeric sequence that \n",
    "# starts 0,1, and then each subsequent number is the sum of the previous two.\n",
    "def fib(n, cache):\n",
    "    # We make a separate function first for fib who takes the number we want to compute\n",
    "    # and cache, something that allows us to store values without having the complier to process\n",
    "    # redundant code. If it is already in the cache, just return it. If it is 0 or 1, return the respective result.\n",
    "    # Else, we follow the fibonacci sequence involving the cache.\n",
    "    if n in cache:\n",
    "        return cache[n]\n",
    "    if n == 0:\n",
    "        return 0\n",
    "    if n == 1:\n",
    "        return 1\n",
    "    x = fib(n-1, cache)\n",
    "    y = fib(n-2, cache)\n",
    "    cache[n-1] = x\n",
    "    cache[n-2] = y\n",
    "    return x + y\n",
    "    \n",
    "    \n",
    "def solution(n):\n",
    "    cache = {}\n",
    "    return fib(n, cache) \n"
   ]
  }
 ],
 "metadata": {
  "interpreter": {
   "hash": "6544a4f6c4c81bb627ffe33e2e2069de7ceab5a334b7c2380b1b0001fbb739c2"
  },
  "kernelspec": {
   "display_name": "Python 3.9.7 ('base')",
   "language": "python",
   "name": "python3"
  },
  "language_info": {
   "codemirror_mode": {
    "name": "ipython",
    "version": 3
   },
   "file_extension": ".py",
   "mimetype": "text/x-python",
   "name": "python",
   "nbconvert_exporter": "python",
   "pygments_lexer": "ipython3",
   "version": "3.9.7"
  },
  "orig_nbformat": 4
 },
 "nbformat": 4,
 "nbformat_minor": 2
}
