{
 "cells": [
  {
   "cell_type": "code",
   "execution_count": null,
   "metadata": {},
   "outputs": [],
   "source": [
    "# Return true if string is palindrome.\n",
    "def solution(s):  \n",
    "    i = 0\n",
    "    j = len(s)-1\n",
    "    # We have the counter (i) and j will be the index range because we account for the 0th position.\n",
    "    while i < len(s):\n",
    "        # While our index is less than the length, if the string index is not equal to the last letter,\n",
    "        # then give False, increment the counter, and decrease the index for J. \n",
    "        if s[i] != s[j]:\n",
    "            return False\n",
    "        i += 1\n",
    "        j -= 1\n",
    "    return True\n"
   ]
  },
  {
   "cell_type": "code",
   "execution_count": null,
   "metadata": {},
   "outputs": [],
   "source": [
    "# Return a number with its digits reversed.\n",
    "def solution(n):\n",
    "    # Reverse slicing, the :: indicates all values, and -1 means we want to start from the end. \n",
    "    # Since n by default is not scriptable since regular ints don't have index values,\n",
    "    # I converted it into a string and then back into an int for the return case.\n",
    "    n = (str(n)[::-1])\n",
    "    return int(n)"
   ]
  },
  {
   "cell_type": "code",
   "execution_count": null,
   "metadata": {},
   "outputs": [],
   "source": [
    "# Given an input array a determine the length of the leading \"run\" of numbers. \n",
    "# The run is how many numbers at the front of the array are the same.\n",
    "# If the array is empty, return 0.\n",
    "def solution(a):\n",
    "    count = 0\n",
    "    for i in a:\n",
    "        # For each index in a, if the index equals the first number in the array, then increment\n",
    "        # the counter, otherwise stop and then return the count. Since we are looking for the \n",
    "        # amount of numbers at the front of the array being the same.\n",
    "        if i==a[0]:\n",
    "            count+=1\n",
    "        else:\n",
    "            break\n",
    "    return count"
   ]
  },
  {
   "cell_type": "code",
   "execution_count": null,
   "metadata": {},
   "outputs": [],
   "source": [
    "# Return a slice of array a starting from index start and ending before index end.\n",
    "def solution(a, start, end):\n",
    "    # Indexing can start or end at any set value or none at all in which \n",
    "    # case it would just return all the values. \n",
    "    return a[start:end]"
   ]
  },
  {
   "cell_type": "code",
   "execution_count": null,
   "metadata": {},
   "outputs": [],
   "source": [
    "# Examine an array and determine the length of the longest run of elements. \n",
    "# That is, the most of a particular element seen in a row.\n",
    "def solution(a):\n",
    "    count = 1\n",
    "    maxcount = 1\n",
    "    # Like the previous example, the only difference is we need a max count to compare each set of \n",
    "    # repeating values. The first if just accounts for empty arrays. \n",
    "    if len(a) == 0:\n",
    "        maxcount = 0\n",
    "    else:\n",
    "        # For each index in the range of a, if the index is equal to the index + 1 AKA the next character,\n",
    "        # increment the count. \n",
    "        for i in range(len(a) - 1):\n",
    "            if a[i] == a[i + 1]:\n",
    "                count += 1\n",
    "            else:\n",
    "                # Otherwise if count is greater than the max count, we update max count and continue\n",
    "                # the loop. Finally once the loop is finished, we return maxcount. \n",
    "                count = 1\n",
    "            if maxcount <= count:\n",
    "                maxcount = count\n",
    "    return maxcount\n"
   ]
  }
 ],
 "metadata": {
  "interpreter": {
   "hash": "6544a4f6c4c81bb627ffe33e2e2069de7ceab5a334b7c2380b1b0001fbb739c2"
  },
  "kernelspec": {
   "display_name": "Python 3.9.7 ('base')",
   "language": "python",
   "name": "python3"
  },
  "language_info": {
   "codemirror_mode": {
    "name": "ipython",
    "version": 3
   },
   "file_extension": ".py",
   "mimetype": "text/x-python",
   "name": "python",
   "nbconvert_exporter": "python",
   "pygments_lexer": "ipython3",
   "version": "3.9.7"
  },
  "orig_nbformat": 4
 },
 "nbformat": 4,
 "nbformat_minor": 2
}
