{
 "cells": [
  {
   "cell_type": "code",
   "execution_count": null,
   "metadata": {},
   "outputs": [],
   "source": [
    "# Write a function that converts a string to an integer.\n",
    "\n",
    "def solution(s):\n",
    "    return int(s)\n",
    "\n",
    "# Write a function that converts a floating point number to a string.\n",
    "\n",
    "def solution(f):\n",
    "    return str(f)\n",
    "\n",
    "# Write a function that converts an integer to a floating point number.\n",
    "def solution(i):\n",
    "    return float(i)"
   ]
  },
  {
   "cell_type": "code",
   "execution_count": null,
   "metadata": {},
   "outputs": [],
   "source": [
    "# Write a function that converts a floating point number to a string \n",
    "# with a specific number of digits past the decimal place.\n",
    "\n",
    "def solution(f, places):\n",
    "    f = f\"{f:.{places}f}\"\n",
    "    return f"
   ]
  },
  {
   "cell_type": "code",
   "execution_count": null,
   "metadata": {},
   "outputs": [],
   "source": [
    "# Write a function that computes the absolute value of a number.\n",
    "\n",
    "# Solve this first without using the built-in absolute value function.\n",
    "\n",
    "def solution(x):\n",
    "    if x < 0:\n",
    "        # * -1 ( to the power of -1 always gives positive value)\n",
    "        return x * -1\n",
    "    else: \n",
    "        return x\n"
   ]
  },
  {
   "cell_type": "code",
   "execution_count": null,
   "metadata": {},
   "outputs": [],
   "source": [
    "# Write a function that returns true if a number is between 2 and 7, exclusive. \n",
    "# (That is, between 3 and 6, inclusive.)\n",
    "\n",
    "def solution(n):\n",
    "    if n > 3 and n < 6:\n",
    "        return True\n",
    "    else:\n",
    "        return False\n"
   ]
  },
  {
   "cell_type": "code",
   "execution_count": null,
   "metadata": {},
   "outputs": [],
   "source": [
    "# Normally, dividing by zero is a bad thing that will cause programs to crash. Write a safer division function\n",
    "# that returns the division of two numbers (the numerator divided by the denominator) unless the denominator is 0, \n",
    "# in which case it should return 0 instead of crashing.\n",
    "\n",
    "def solution(numerator, denominator):\n",
    "    if denominator == 0:\n",
    "        return 0\n",
    "    else: \n",
    "        return numerator / denominator\n"
   ]
  },
  {
   "cell_type": "code",
   "execution_count": null,
   "metadata": {},
   "outputs": [],
   "source": [
    "# Return the larger of two numbers.\n",
    "\n",
    "# If they're the same, return either one.\n",
    "\n",
    "def solution(a, b):\n",
    "    if a > b:\n",
    "        return a\n",
    "    elif b > a:\n",
    "        return b\n",
    "    else:\n",
    "        return a or b"
   ]
  },
  {
   "cell_type": "code",
   "execution_count": null,
   "metadata": {},
   "outputs": [],
   "source": [
    "#This function will analyze its input and return a string based on it.\n",
    "\n",
    "# If the input is 0, return \"none\".\n",
    "# If the input is 1, return \"one\".\n",
    "# If the input is 2, return \"two\".\n",
    "# If the input is anything else, return \"some\".\n",
    "\n",
    "\n",
    "def solution(n):\n",
    "    if n == 0:\n",
    "        return \"none\"\n",
    "    elif n == 1:\n",
    "        return \"one\"\n",
    "    elif n == 2:\n",
    "        return \"two\"\n",
    "    else:\n",
    "        return \"some\"\n"
   ]
  },
  {
   "cell_type": "code",
   "execution_count": null,
   "metadata": {},
   "outputs": [],
   "source": [
    "# Return the larger of three numbers.\n",
    "\n",
    "# If they're all the same, return any one.\n",
    "\n",
    "def solution(a, b, c):\n",
    "    if a > b and a > c:\n",
    "        return a\n",
    "    elif b > a and b > c:\n",
    "        return b\n",
    "    elif c > a and c > b:\n",
    "        return c\n",
    "    elif a == b == c:\n",
    "        return a or b or c\n"
   ]
  },
  {
   "cell_type": "code",
   "execution_count": null,
   "metadata": {},
   "outputs": [],
   "source": [
    "# Return the largest of six numbers.\n",
    "\n",
    "# Do not use any built-in maximum value function to solve this!\n",
    "\n",
    "def solution(a, b, c, d, e, f):\n",
    "    values = [a, b, c, d, e, f]\n",
    "    highest = values[0]\n",
    "    for x in values:\n",
    "        if x >= highest:\n",
    "            highest = x\n",
    "    return highest"
   ]
  },
  {
   "cell_type": "code",
   "execution_count": null,
   "metadata": {},
   "outputs": [],
   "source": [
    "# This function will run a set of tests on three numbers. If the test passes, \n",
    "# the function will return the string \"OK\". Otherwise it returns \"NOK\".\n",
    "\n",
    "def solution(a, b, c):\n",
    "    if a > b and b <= c and (((a*3) > c) or (c <=a)):\n",
    "        return \"OK\"\n",
    "    else:\n",
    "        return \"NOK\"\n",
    "    "
   ]
  },
  {
   "cell_type": "code",
   "execution_count": null,
   "metadata": {},
   "outputs": [],
   "source": [
    "# Write a function that takes an amount to withdraw from an account, \n",
    "# along with the current balance.\n",
    "\n",
    "# If there isn't enough in the account to make the withdrawal, return -1. \n",
    "# Otherwise return the remaining balance after the withdrawal.\n",
    "\n",
    "def solution(amount, balance):\n",
    "    if balance >= amount:\n",
    "        return balance - amount\n",
    "    else:\n",
    "        return -1\n"
   ]
  }
 ],
 "metadata": {
  "language_info": {
   "name": "python"
  },
  "orig_nbformat": 4
 },
 "nbformat": 4,
 "nbformat_minor": 2
}
