{
 "cells": [
  {
   "cell_type": "code",
   "execution_count": null,
   "metadata": {},
   "outputs": [],
   "source": [
    "# Write function that processes an input array, \n",
    "# returning an array with the difference between each two subsequent elements.\n",
    "# Note that the output array will have one fewer elements than the input.\n",
    "\n",
    "def solution(a):\n",
    "    # The instructions tell us to have the output array contain\n",
    "    # one less elements, so we add the - 1 to the range.\n",
    "    result = []\n",
    "    for i in range(len(a) - 1):\n",
    "        diff = a[i] - a[i+1]\n",
    "        result.append(diff)\n",
    "    return result"
   ]
  },
  {
   "cell_type": "code",
   "execution_count": null,
   "metadata": {},
   "outputs": [],
   "source": [
    "# Write a function that moves a \"window\" over an array, processing the values \n",
    "# under the window as it goes.\n",
    "\n",
    "def solution(a, window_size):\n",
    "    # Bigger window size equals less iterations. \n",
    "  result = []\n",
    "  iter_num = len(a) - (window_size - 1)\n",
    "  # Iter_num is how many times we need the window to go over the array in order to \n",
    "  # cover the range. EX: if the len was 5 and the window size was 3. Then we would \n",
    "  # only need two passes\n",
    "  for i in range(iter_num):\n",
    "    is_all_odd = True\n",
    "    for j in range(window_size):\n",
    "        # The first for statement covers every index in the iter while the second one\n",
    "        # accoutns for each index of the size of the window. Then if we add the indexes\n",
    "        # from both for loops and it floor divides into 0, we output false.\n",
    "      if a[i + j] % 2 == 0:\n",
    "        is_all_odd = False\n",
    "    result.append(is_all_odd) \n",
    "    \n",
    "  return result "
   ]
  },
  {
   "cell_type": "code",
   "execution_count": null,
   "metadata": {},
   "outputs": [],
   "source": [
    "# Write a function that moves a \"window\" over an array, processing the values under the window as it goes.\n",
    "# Your goal is to return an array of averages of the values under the window as it moves.\n",
    "\n",
    "def solution(a, window_size):\n",
    "    result = []\n",
    "    iter_num = len(a) - (window_size - 1)\n",
    "    for i in range(iter_num):\n",
    "        total = 0\n",
    "        for j in range(window_size):\n",
    "            total += a[i+j]\n",
    "        avg = total / window_size\n",
    "        result.append(avg)\n",
    "    return result"
   ]
  },
  {
   "cell_type": "code",
   "execution_count": null,
   "metadata": {},
   "outputs": [],
   "source": [
    "# You are given an array of integers a. Your task is to calculate how many numbers in the array are \n",
    "# equal to the arithmetic mean of their immediate neighbors.\n",
    "\n",
    "def solution(a):\n",
    "    a = [0] + a + [0]\n",
    "    # We put the 0s in because it doesnt change the mean and to account for odd indexes.\n",
    "    # We subtract 2 from length because our window size is \n",
    "    # fixed at 3.\n",
    "    result = []\n",
    "    count = 0\n",
    "    for i in range(len(a)-2):\n",
    "        # We subtract 2 because of the 0s we put in. The variables below take the index values of \n",
    "        # each of the specific indexes and calucates the mean. If the middle value equals the average,\n",
    "        # we increase count. We then return the count because its asking for the number of true instances.\n",
    "        left = a[i]\n",
    "        middle = a[i+1]\n",
    "        right = a[i+2]\n",
    "        avg = (left + right) / 2\n",
    "        if avg == middle:\n",
    "            count += 1\n",
    "            result.append(True)\n",
    "        else:\n",
    "            result.append(False)\n",
    "    return count\n"
   ]
  },
  {
   "cell_type": "code",
   "execution_count": null,
   "metadata": {},
   "outputs": [],
   "source": [
    "# Given a string s consisting of small English letters, find and return the first instance \n",
    "# of a non-repeating character in it. If there is no such character, return '_'.\n",
    "\n",
    "def solution(s):\n",
    "    for i in s: \n",
    "        # For each index in s, if it is equal to the last index,\n",
    "        # then return the index value.\n",
    "        if s.index(i) == s.rindex(i): \n",
    "            return i  \n",
    "    return  '_'    "
   ]
  }
 ],
 "metadata": {
  "interpreter": {
   "hash": "6544a4f6c4c81bb627ffe33e2e2069de7ceab5a334b7c2380b1b0001fbb739c2"
  },
  "kernelspec": {
   "display_name": "Python 3.9.7 ('base')",
   "language": "python",
   "name": "python3"
  },
  "language_info": {
   "codemirror_mode": {
    "name": "ipython",
    "version": 3
   },
   "file_extension": ".py",
   "mimetype": "text/x-python",
   "name": "python",
   "nbconvert_exporter": "python",
   "pygments_lexer": "ipython3",
   "version": "3.9.7"
  },
  "orig_nbformat": 4
 },
 "nbformat": 4,
 "nbformat_minor": 2
}
