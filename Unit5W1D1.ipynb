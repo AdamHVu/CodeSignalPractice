{
 "cells": [
  {
   "cell_type": "code",
   "execution_count": null,
   "metadata": {},
   "outputs": [],
   "source": [
    "# Write a function that returns the sum of two numbers.\n",
    "\n",
    "def solution(arg1, arg2):\n",
    "     return arg1 + arg2 "
   ]
  },
  {
   "cell_type": "code",
   "execution_count": null,
   "metadata": {},
   "outputs": [],
   "source": [
    "# Write a function that performs a sequence of mathematical operations by reassigning the results into the same variable.\n",
    "'''\n",
    " Add 7 to the number.\n",
    " Divide the result by 2 (the result could be fractional).\n",
    " Multiply that result by 5.\n",
    " Return the result.\n",
    " '''\n",
    "\n",
    " def solution(n):\n",
    "  n = n + 7 \n",
    "  n = n / 2\n",
    "  n = n * 5\n",
    "  return n"
   ]
  },
  {
   "cell_type": "code",
   "execution_count": null,
   "metadata": {},
   "outputs": [],
   "source": [
    "#Write a function that computes the sum of all values between 1 and n, inclusive.\n",
    "\n",
    "def solution(n):\n",
    "    return n * (n+1) / 2"
   ]
  },
  {
   "cell_type": "code",
   "execution_count": null,
   "metadata": {},
   "outputs": [],
   "source": [
    "#From the year you were born until now is a certain number of years. \n",
    "#What year was it that many years before your birth year?\n",
    "'''\n",
    "For example, if a person was born in 2000 and it is now 2021, \n",
    "their \"flip year\" would be 1979. (Because they are 21 years old, \n",
    "and there are 21 years between 1979 and 2000.)\n",
    "'''\n",
    "\n",
    "def solution(birth_year, current_year):\n",
    "    years_left = current_year - birth_year\n",
    "    flip_year = birth_year - years_left\n",
    "    return flip_year\n"
   ]
  }
 ],
 "metadata": {
  "language_info": {
   "name": "python"
  },
  "orig_nbformat": 4
 },
 "nbformat": 4,
 "nbformat_minor": 2
}
