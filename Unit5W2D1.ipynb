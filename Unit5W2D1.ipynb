{
 "cells": [
  {
   "cell_type": "code",
   "execution_count": null,
   "metadata": {},
   "outputs": [],
   "source": [
    "# Construct a string of p copies of n capital \"A\"s and m capital \"B\"s.\n",
    "# Except if the copy number is evenly divisible by 3, in which case insert a string of p capital \"X\"s instead.\n",
    "# Copy numbers begin with 0 for the first copy.\n",
    "\n",
    "def solution(p, n, m):\n",
    "    # We create an empty string to fill in\n",
    "    s =''\n",
    "    for i in range(p):\n",
    "        if i % 3 == 0: \n",
    "            # For each value in p, if divisible by 3, we add X\n",
    "            for _ in range(p):\n",
    "                s += \"X\"\n",
    "        else:\n",
    "            # For each n or m, we add the letter accordingly\n",
    "            for _ in range(n):\n",
    "                s += 'A'\n",
    "            for _ in range (m):\n",
    "                s += 'B' \n",
    "    return s "
   ]
  },
  {
   "cell_type": "code",
   "execution_count": null,
   "metadata": {},
   "outputs": [],
   "source": [
    "# Return a reversed version of a string.\n",
    "# If the string is empty, return an empty string.\n",
    "\n",
    "def solution(s):\n",
    "    if s == '':\n",
    "        return ''\n",
    "    else: \n",
    "        # Negative indexing via -1 will give you the reverse\n",
    "        return s[::-1]\n"
   ]
  },
  {
   "cell_type": "code",
   "execution_count": null,
   "metadata": {},
   "outputs": [],
   "source": [
    "# This function accepts a string. It should also return an array where each element \n",
    "# is a single letter in the string, in the same order.\n",
    "# If the input string is empty, return an empty array.\n",
    "\n",
    "def solution(s):\n",
    "    new_array = []\n",
    "    # Since you cant use range on a string, by getting\n",
    "    # the length, we can use that instead.\n",
    "    for i in range(len(s)):\n",
    "        string = str(s[i])\n",
    "        for x in string:\n",
    "            new_array.append(x)\n",
    "    return new_array"
   ]
  },
  {
   "cell_type": "code",
   "execution_count": null,
   "metadata": {},
   "outputs": [],
   "source": [
    "# Return the number of occurrences of v in array a.\n",
    "# If the array is empty, return 0.\n",
    "\n",
    "def solution(a, v):\n",
    "    count = 0\n",
    "    # For each item in the array, if the index value\n",
    "    # matches v, then we increase the count.\n",
    "    for i in a:\n",
    "        if i == v:\n",
    "            count += 1\n",
    "    return count"
   ]
  },
  {
   "cell_type": "code",
   "execution_count": null,
   "metadata": {},
   "outputs": [],
   "source": [
    "# Given an array and a value x, return an array with all the elements \n",
    "# of the original except those with value x.\n",
    "def solution(a, x):\n",
    "    return [item for item in a if item != x]"
   ]
  },
  {
   "cell_type": "code",
   "execution_count": null,
   "metadata": {},
   "outputs": [],
   "source": [
    "# Given an input array a and a second array, filter_array, produce a new array that contains only the \n",
    "# elements of a that are not in filter_array.\n",
    "\n",
    "def solution(a, filter_list):\n",
    "    # For each item in a if the item is not in the filtered list,\n",
    "    # we want the item back in an array.\n",
    "    return [item for item in a if item not in filter_list]"
   ]
  },
  {
   "cell_type": "code",
   "execution_count": null,
   "metadata": {},
   "outputs": [],
   "source": [
    "# Produce an array of n strings. Each string will contain m uppercase \"A\"s.\n",
    "\n",
    "def solution(n, m):\n",
    "    b = (m * \"A\")\n",
    "    # We put brackets on b to indicate we want an array\n",
    "    return n * [b]"
   ]
  },
  {
   "cell_type": "code",
   "execution_count": null,
   "metadata": {},
   "outputs": [],
   "source": []
  }
 ],
 "metadata": {
  "interpreter": {
   "hash": "6544a4f6c4c81bb627ffe33e2e2069de7ceab5a334b7c2380b1b0001fbb739c2"
  },
  "kernelspec": {
   "display_name": "Python 3.9.7 ('base')",
   "language": "python",
   "name": "python3"
  },
  "language_info": {
   "codemirror_mode": {
    "name": "ipython",
    "version": 3
   },
   "file_extension": ".py",
   "mimetype": "text/x-python",
   "name": "python",
   "nbconvert_exporter": "python",
   "pygments_lexer": "ipython3",
   "version": "3.9.7"
  },
  "orig_nbformat": 4
 },
 "nbformat": 4,
 "nbformat_minor": 2
}
