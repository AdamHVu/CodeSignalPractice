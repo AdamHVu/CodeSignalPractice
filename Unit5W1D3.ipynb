{
 "cells": [
  {
   "cell_type": "code",
   "execution_count": null,
   "metadata": {},
   "outputs": [],
   "source": [
    "x = 1\n",
    "y = 2 \n",
    "s = f\"x is {x} and y is {y}\"\n",
    "\n",
    "print(s)"
   ]
  },
  {
   "cell_type": "code",
   "execution_count": null,
   "metadata": {},
   "outputs": [],
   "source": [
    "s = 'hello world!'\n",
    "\n",
    "for i in range (len(s)):\n",
    "    print(s[i])\n",
    "\n",
    "    Data Scientist, ML Engineer, Data Analyst, AI Engineer, \n",
    "    Data Visualization, Statistics, Python, SQL\n"
   ]
  },
  {
   "cell_type": "code",
   "execution_count": null,
   "metadata": {},
   "outputs": [],
   "source": [
    "for i in range (0, len(s), 2):\n",
    "    # Numbers outside of the main \"len\" are just how much it iterates by\n",
    "    print(i)"
   ]
  },
  {
   "cell_type": "code",
   "execution_count": null,
   "metadata": {},
   "outputs": [],
   "source": [
    "# Compute the factorial of an integer n. \n",
    "# This is commonly written as n!, which is read as \"n factorial\".\n",
    "def solution(n):\n",
    "    total = 1\n",
    "    for x in range(1, n+1):\n",
    "        total *= x\n",
    "    return total"
   ]
  },
  {
   "cell_type": "code",
   "execution_count": null,
   "metadata": {},
   "outputs": [],
   "source": [
    "# Compute the product of all numbers from a to b, inclusive.\n",
    "def solution(a,b):\n",
    "    total = 1\n",
    "    for x in range(a, b+1):\n",
    "        total *= x\n",
    "    return total"
   ]
  },
  {
   "cell_type": "code",
   "execution_count": null,
   "metadata": {},
   "outputs": [],
   "source": [
    "# Return the character at index n in a string s.\n",
    "# If the index is out of range of the length of the string, \n",
    "# return the string \"none\". Otherwise, return the character at that index.\n",
    "def solution(s, n):\n",
    "    if n in range (0, len(s)):\n",
    "        return s[n]\n",
    "    else:\n",
    "        return \"none\"\n"
   ]
  },
  {
   "cell_type": "code",
   "execution_count": null,
   "metadata": {},
   "outputs": [],
   "source": [
    "# Return true if a string is all lowercase.\n",
    "def solution(s):\n",
    "    if s == str.lower(s):\n",
    "        return True\n",
    "    else: \n",
    "        return False\n",
    "        "
   ]
  },
  {
   "cell_type": "code",
   "execution_count": null,
   "metadata": {},
   "outputs": [],
   "source": [
    "# Count the number of occurrences of a letter in a string.\n",
    "def solution(s, letter):\n",
    "    count = 0 \n",
    "    for char in s:\n",
    "        if char == letter:\n",
    "            count += 1\n",
    "    return count\n"
   ]
  },
  {
   "cell_type": "code",
   "execution_count": null,
   "metadata": {},
   "outputs": [],
   "source": [
    "# Given a number, return the number of digits.\n",
    "def solution(n):\n",
    "    n = str(n)\n",
    "    return len(n)"
   ]
  },
  {
   "cell_type": "code",
   "execution_count": null,
   "metadata": {},
   "outputs": [],
   "source": [
    "#Return the index of the last character in a string. If the string is empty, return -1.\n",
    "def solution(s):\n",
    " if len(s) > 0:\n",
    "    return len(s) - 1\n",
    " else:\n",
    "    return -1\n"
   ]
  },
  {
   "cell_type": "code",
   "execution_count": null,
   "metadata": {},
   "outputs": [],
   "source": [
    "# Return the last character in a string. If the string is empty, return \"none\".\n",
    "def solution(s):\n",
    " if len(s) > 0:\n",
    "    return s[-1]\n",
    " else:\n",
    "    return \"none\""
   ]
  },
  {
   "cell_type": "code",
   "execution_count": null,
   "metadata": {},
   "outputs": [],
   "source": [
    "# Return true if the first and second characters in the string are equal. \n",
    "def solution(s):\n",
    "    if s[0] == s[1]:\n",
    "        return True\n",
    "    else: \n",
    "        return False"
   ]
  },
  {
   "cell_type": "code",
   "execution_count": null,
   "metadata": {},
   "outputs": [],
   "source": [
    "# Return true if the first and last characters in the string are equal.\n",
    "def solution(s):\n",
    "    if s[0] == s[-1]:\n",
    "        return True\n",
    "    else: \n",
    "        return False"
   ]
  },
  {
   "cell_type": "code",
   "execution_count": null,
   "metadata": {},
   "outputs": [],
   "source": [
    "# Return true if the last two characters in the string are equal.\n",
    "def solution(s):\n",
    "    if s[-1] == s[-2]:\n",
    "        return True\n",
    "    else:\n",
    "        return False"
   ]
  },
  {
   "cell_type": "code",
   "execution_count": null,
   "metadata": {},
   "outputs": [],
   "source": [
    "# For a given string, return a new string with asterisks (*) on each side of each letter.\n",
    "#If the string is empty, return an empty string.\n",
    "def solution(s):\n",
    "    string = \"\"\n",
    "    for char in s:\n",
    "        string += (\"*\" + char + \"*\")\n",
    "    return string"
   ]
  },
  {
   "cell_type": "code",
   "execution_count": null,
   "metadata": {},
   "outputs": [],
   "source": [
    "# For a given string, return a new string with asterisks (*) on each side of each letter.\n",
    "def solution(s):\n",
    "    string = \"*\"\n",
    "    # For each letter in the string, add an asterisk to it.\n",
    "    for char in s:\n",
    "        string += (char + \"*\")\n",
    "    return string\n",
    "    "
   ]
  },
  {
   "cell_type": "code",
   "execution_count": null,
   "metadata": {},
   "outputs": [],
   "source": [
    "# Construct a string of n capital \"A\"s.\n",
    "\n",
    "#You must use a loop to solve this.\n",
    "def solution(n):\n",
    "    string = ''\n",
    "    if n > 0:\n",
    "        string += ('A') * n\n",
    "    return string\n"
   ]
  }
 ],
 "metadata": {
  "interpreter": {
   "hash": "6544a4f6c4c81bb627ffe33e2e2069de7ceab5a334b7c2380b1b0001fbb739c2"
  },
  "kernelspec": {
   "display_name": "Python 3.9.7 ('base')",
   "language": "python",
   "name": "python3"
  },
  "language_info": {
   "codemirror_mode": {
    "name": "ipython",
    "version": 3
   },
   "file_extension": ".py",
   "mimetype": "text/x-python",
   "name": "python",
   "nbconvert_exporter": "python",
   "pygments_lexer": "ipython3",
   "version": "3.9.7"
  },
  "orig_nbformat": 4
 },
 "nbformat": 4,
 "nbformat_minor": 2
}
