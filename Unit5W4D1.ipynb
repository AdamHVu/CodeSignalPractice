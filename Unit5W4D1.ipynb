{
 "cells": [
  {
   "cell_type": "code",
   "execution_count": null,
   "metadata": {},
   "outputs": [],
   "source": [
    "def permutations(s):\n",
    "    for a_end in range(1, len(s)-1):\n",
    "        a = s[0:a_end]\n",
    "        for b_end in range(a_end+1, len(s)):\n",
    "            b = s[a_end:b_end]\n",
    "            c = s[b_end:]\n",
    "\n",
    "def solution(s):\n",
    "    count = 0\n",
    "    for a, b, c, in permutations(s):\n",
    "        # if a + b != b + c and a + b != c+a and b + c != c + a:\n",
    "        result_set = {a+b, b+c, c+a}\n",
    "        if len(result_set) == 3:\n",
    "            count += 1\n",
    "    return count "
   ]
  },
  {
   "cell_type": "code",
   "execution_count": null,
   "metadata": {},
   "outputs": [],
   "source": [
    "# You be given an array of integers numbers and two integers left and right. You task is to calculate a \n",
    "# boolean array result, where result[i] = true if there exists an integer x, such that \n",
    "# numbers[i] = (i + 1) * x and left ≤ x ≤ right. Otherwise, result[i] should be set to false.\n",
    "def solution(numbers, left, right):\n",
    "    result = []\n",
    "    i = 0\n",
    "    for n in numbers:\n",
    "      for x in range(left,right+1):\n",
    "        if (n == (i+1)*(x)):\n",
    "            result.append(True)\n",
    "            i = i+1\n",
    "            break\n",
    "        elif x == right:\n",
    "              result.append(False)\n",
    "              i= i+1\n",
    "              break\n",
    "        else:\n",
    "            pass\n",
    "        \n",
    "    return result\n",
    "\n"
   ]
  }
 ],
 "metadata": {
  "interpreter": {
   "hash": "6544a4f6c4c81bb627ffe33e2e2069de7ceab5a334b7c2380b1b0001fbb739c2"
  },
  "kernelspec": {
   "display_name": "Python 3.9.7 ('base')",
   "language": "python",
   "name": "python3"
  },
  "language_info": {
   "codemirror_mode": {
    "name": "ipython",
    "version": 3
   },
   "file_extension": ".py",
   "mimetype": "text/x-python",
   "name": "python",
   "nbconvert_exporter": "python",
   "pygments_lexer": "ipython3",
   "version": "3.9.7"
  },
  "orig_nbformat": 4
 },
 "nbformat": 4,
 "nbformat_minor": 2
}
