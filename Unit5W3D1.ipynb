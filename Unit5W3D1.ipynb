{
 "cells": [
  {
   "cell_type": "code",
   "execution_count": null,
   "metadata": {},
   "outputs": [],
   "source": [
    "# Count the number of occurrences of certain letters in a string.\n",
    "# We want to know the counts of each of a set of letters in the input string. \n",
    "# For instance, we want to know how many as, xs, and js there are.\n",
    "# You'll return the list of requested counts as an array.\n",
    "# If letter is an empty string, return an empty array.\n",
    "def solution(s, letters):\n",
    "    d = {}\n",
    "    # We make the dict and for each char in the string, we\n",
    "    # say that if the char is in our new dict, we add a count \n",
    "    # via d[char].\n",
    "    for char in s:\n",
    "        if char in d:\n",
    "            d[char] += 1\n",
    "        else:\n",
    "            d[char] = 1\n",
    "    # After we make an array for our result and say that for \n",
    "    # each letter in the set of letters we want to know if \n",
    "    # they are in our string, we append the letter if it is \n",
    "    # there, otherwise give a 0.\n",
    "    result = []\n",
    "    for letter in letters:\n",
    "        result.append(d.get(letter, 0))\n",
    "    return result\n"
   ]
  },
  {
   "cell_type": "code",
   "execution_count": null,
   "metadata": {},
   "outputs": [],
   "source": [
    "# Count all the words in a string, then produce a new string when the count of each word in parentheses \n",
    "# follows each word. If the string is empty, return an empty string.\n",
    "def solution(s):\n",
    "    words = s.split()\n",
    "    d = {}\n",
    "    # Using Split to separate the words, we say that for each word in the split up words,\n",
    "    # if said word is not in the dict, we set the word count to 1, otherwise we increment.\n",
    "    for word in words:\n",
    "        if word not in d:\n",
    "            d[word] = 1\n",
    "        else:\n",
    "            d[word] += 1\n",
    "    # We make an empty array for the results and say that for each word in the split, we append\n",
    "    # each word and their respective value in the key for the dict. \n",
    "    results = []\n",
    "    for word in words:\n",
    "        results.append(f\"{word}({d[word]})\")\n",
    "    # The easiest way to add it although not the normal way is to use join.\n",
    "    return ' '.join(results)\n",
    "\n"
   ]
  },
  {
   "cell_type": "code",
   "execution_count": null,
   "metadata": {},
   "outputs": [],
   "source": [
    "# Given a string of lowercase words separated by single spaces, return a string with all duplicate words \n",
    "# removed. However, the first occurrence of a duplicate word should be left in place; only the \n",
    "# subsequent duplicates should be removed. If the string is empty, return an empty string.\n",
    "def solution(s):\n",
    "  words = s.split()\n",
    "  result = []\n",
    "  # We make the split list and an empty array for the results. Then we say that for each word in our \n",
    "  # list of words, if the word is in the array, we don't count it. Otherwise add the word.\n",
    "  for word in words:\n",
    "    if word in result:\n",
    "      pass\n",
    "    else:\n",
    "      result.append(word)\n",
    "  return ' '. join(result)\n"
   ]
  }
 ],
 "metadata": {
  "interpreter": {
   "hash": "6544a4f6c4c81bb627ffe33e2e2069de7ceab5a334b7c2380b1b0001fbb739c2"
  },
  "kernelspec": {
   "display_name": "Python 3.9.7 ('base')",
   "language": "python",
   "name": "python3"
  },
  "language_info": {
   "codemirror_mode": {
    "name": "ipython",
    "version": 3
   },
   "file_extension": ".py",
   "mimetype": "text/x-python",
   "name": "python",
   "nbconvert_exporter": "python",
   "pygments_lexer": "ipython3",
   "version": "3.9.7"
  },
  "orig_nbformat": 4
 },
 "nbformat": 4,
 "nbformat_minor": 2
}
