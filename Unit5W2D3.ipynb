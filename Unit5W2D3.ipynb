{
 "cells": [
  {
   "cell_type": "code",
   "execution_count": null,
   "metadata": {},
   "outputs": [],
   "source": [
    "# Create a 2D array of size row_count x col_count. Fill the array with 0.\n",
    "\n",
    "def solution(row_count, col_count):\n",
    "    row = []\n",
    "    # We make a new array that will be our rows. For each index \n",
    "    # in the column count, we will add a 0 to the new array.\n",
    "    for i in range(col_count):\n",
    "        row.append(0)\n",
    "        \n",
    "    m = []\n",
    "    # We make a new array to hold all the rows. For each index\n",
    "    # in the row count, we add our new rows to m.\n",
    "    for i in range(row_count):\n",
    "        m.append(row)\n",
    "        \n",
    "    return m"
   ]
  },
  {
   "cell_type": "code",
   "execution_count": null,
   "metadata": {},
   "outputs": [],
   "source": [
    "# Create a square 2D array of size size x size. Fill the array with 0.\n",
    "# Then draw a line of 1s down the main diagonal.\n",
    "def solution(size):\n",
    "    grid = []\n",
    "    # We make grid to hold the rows. Multiple For Loops allow\n",
    "    # for checking arrays within other arrays.\n",
    "    for i in range(size):\n",
    "        row = []\n",
    "        for j in range(size):\n",
    "            # For each index in grid, we compare that index to\n",
    "            # value to the index of the row. If its equal, \n",
    "            # then set it to 1, otherwise, put it to 0.\n",
    "            if i == j:\n",
    "                row.append(1)\n",
    "            else:\n",
    "                row.append(0)\n",
    "        grid.append(row)\n",
    "    return grid"
   ]
  },
  {
   "cell_type": "code",
   "execution_count": null,
   "metadata": {},
   "outputs": [],
   "source": [
    "# Return a substring (part of a string) between two indexes.\n",
    "def solution(s, a, b):\n",
    "  return s[a:b]\n",
    "        "
   ]
  },
  {
   "cell_type": "code",
   "execution_count": null,
   "metadata": {},
   "outputs": [],
   "source": [
    "# Given a number, return the number of digits.\n",
    "def solution(n):\n",
    "    count = 0\n",
    "    while n > 0:\n",
    "        # We set a count and say that if the nubmer we input is great than it, divide n by 10\n",
    "        # evenly and continue to do so until you can't. Then return count. \n",
    "        count += 1\n",
    "        n = n // 10 \n",
    "    return count"
   ]
  },
  {
   "cell_type": "code",
   "execution_count": null,
   "metadata": {},
   "outputs": [],
   "source": [
    "# Write a function that builds an n x n multiplication table.\n",
    "# The result will be a 2D array. The 0th row and column of the table begin with 1 and end with n.\n",
    "def solution(n):\n",
    "    table = []\n",
    "    for row in range(1,n+1):\n",
    "        mult = []\n",
    "        for col in range(1,n+1):\n",
    "            # We create two arrays, one to hold the first set of\n",
    "            # values we want to multiply and the overall one.\n",
    "            # Next we say for each row and column, we want the \n",
    "            # product. We put that into Mult which is where \n",
    "            # our multiplied values go in which it is then\n",
    "            # stored in the table. By appending it to another\n",
    "            # array, it will become a 2D array.\n",
    "            s = (row*col)\n",
    "            mult.append(s)\n",
    "        table.append(mult)\n",
    "    return table \n"
   ]
  }
 ],
 "metadata": {
  "interpreter": {
   "hash": "6544a4f6c4c81bb627ffe33e2e2069de7ceab5a334b7c2380b1b0001fbb739c2"
  },
  "kernelspec": {
   "display_name": "Python 3.9.7 ('base')",
   "language": "python",
   "name": "python3"
  },
  "language_info": {
   "codemirror_mode": {
    "name": "ipython",
    "version": 3
   },
   "file_extension": ".py",
   "mimetype": "text/x-python",
   "name": "python",
   "nbconvert_exporter": "python",
   "pygments_lexer": "ipython3",
   "version": "3.9.7"
  },
  "orig_nbformat": 4
 },
 "nbformat": 4,
 "nbformat_minor": 2
}
